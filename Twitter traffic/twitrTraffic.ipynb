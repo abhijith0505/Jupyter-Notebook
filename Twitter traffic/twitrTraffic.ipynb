{
 "cells": [
  {
   "cell_type": "code",
   "execution_count": 13,
   "metadata": {
    "collapsed": true,
    "deletable": true,
    "editable": true
   },
   "outputs": [],
   "source": [
    "import pandas as pd\n",
    "import numpy as np"
   ]
  },
  {
   "cell_type": "code",
   "execution_count": 25,
   "metadata": {
    "collapsed": false,
    "deletable": true,
    "editable": true
   },
   "outputs": [
    {
     "data": {
      "text/plain": [
       "0    and also karnataka bhavan jn towards khodays c...\n",
       "1    peak hour traffic at mekhri circle underpass t...\n",
       "2    and also anand rao circle towards keno theater...\n",
       "3    peak hour traffic at nayandahalli jn towards d...\n",
       "4    and also krishna floor mil jn towards okalipur...\n",
       "Name: text, dtype: object"
      ]
     },
     "execution_count": 25,
     "metadata": {},
     "output_type": "execute_result"
    }
   ],
   "source": [
    "T_tweets = pd.read_csv('train.csv')\n",
    "\n",
    "#T_tweets['created_at'] = T_tweets['created_at'].str.replace('[','')\n",
    "#T_tweets['created_at'] = T_tweets['created_at'].str.replace(']','')\n",
    "#T_tweets['created_at'] = T_tweets['created_at'].str.replace('\\'','')\n",
    "\n",
    "#T_tweets['date'], T_tweets['time'] = T_tweets['created_at'].str.split(',',1).str\n",
    "\n",
    "T_tweets.drop(T_tweets.columns[[0,1,3]], axis=1, inplace=True)\n",
    "T_tweets = T_tweets['text'].str.lower()\n",
    "T_tweets = T_tweets.replace(['((www\\.[^\\s]+)|(https?://[^\\s]+))'],['URL'],regex=True)\n",
    "T_tweets = T_tweets.replace(['[\\s]+'], [' '],regex=True)\n",
    "T_tweets = T_tweets.replace(['#([^\\s]+)'], ['\\1'],regex=True)\n",
    "\n",
    "T_tweets.head()\n"
   ]
  },
  {
   "cell_type": "code",
   "execution_count": 83,
   "metadata": {
    "collapsed": false,
    "deletable": true,
    "editable": true
   },
   "outputs": [
    {
     "data": {
      "text/html": [
       "<div>\n",
       "<table border=\"1\" class=\"dataframe\">\n",
       "  <thead>\n",
       "    <tr style=\"text-align: right;\">\n",
       "      <th></th>\n",
       "      <th>id</th>\n",
       "      <th>text</th>\n",
       "      <th>date</th>\n",
       "      <th>time</th>\n",
       "    </tr>\n",
       "  </thead>\n",
       "  <tbody>\n",
       "    <tr>\n",
       "      <th>0</th>\n",
       "      <td>834019605102358528</td>\n",
       "      <td>Siddalinghaiah Jn towards Richmond circle on V...</td>\n",
       "      <td>2017-02-21</td>\n",
       "      <td>12:39:03</td>\n",
       "    </tr>\n",
       "    <tr>\n",
       "      <th>1</th>\n",
       "      <td>834019562114936834</td>\n",
       "      <td>Peak hour traffic at Shanthala Jn towards Cott...</td>\n",
       "      <td>2017-02-21</td>\n",
       "      <td>12:38:53</td>\n",
       "    </tr>\n",
       "    <tr>\n",
       "      <th>2</th>\n",
       "      <td>834016888372023296</td>\n",
       "      <td>Peak hour traffic at Police thimmaiah Crl towa...</td>\n",
       "      <td>2017-02-21</td>\n",
       "      <td>12:28:16</td>\n",
       "    </tr>\n",
       "    <tr>\n",
       "      <th>3</th>\n",
       "      <td>834004809422356483</td>\n",
       "      <td>Peak hour traffic at K.R circle towards Hudson...</td>\n",
       "      <td>2017-02-21</td>\n",
       "      <td>11:40:16</td>\n",
       "    </tr>\n",
       "    <tr>\n",
       "      <th>4</th>\n",
       "      <td>833913312471560192</td>\n",
       "      <td>#TrafficAlert Protest at Town-hall by a politi...</td>\n",
       "      <td>2017-02-21</td>\n",
       "      <td>05:36:41</td>\n",
       "    </tr>\n",
       "  </tbody>\n",
       "</table>\n",
       "</div>"
      ],
      "text/plain": [
       "                   id                                               text  \\\n",
       "0  834019605102358528  Siddalinghaiah Jn towards Richmond circle on V...   \n",
       "1  834019562114936834  Peak hour traffic at Shanthala Jn towards Cott...   \n",
       "2  834016888372023296  Peak hour traffic at Police thimmaiah Crl towa...   \n",
       "3  834004809422356483  Peak hour traffic at K.R circle towards Hudson...   \n",
       "4  833913312471560192  #TrafficAlert Protest at Town-hall by a politi...   \n",
       "\n",
       "         date       time  \n",
       "0  2017-02-21   12:39:03  \n",
       "1  2017-02-21   12:38:53  \n",
       "2  2017-02-21   12:28:16  \n",
       "3  2017-02-21   11:40:16  \n",
       "4  2017-02-21   05:36:41  "
      ]
     },
     "execution_count": 83,
     "metadata": {},
     "output_type": "execute_result"
    }
   ],
   "source": [
    "T_tweets_test = pd.read_csv('tweets.csv')\n",
    "\n",
    "T_tweets_test['created_at'] = T_tweets_test['created_at'].str.replace('[','')\n",
    "T_tweets_test['created_at'] = T_tweets_test['created_at'].str.replace(']','')\n",
    "T_tweets_test['created_at'] = T_tweets_test['created_at'].str.replace('\\'','')\n",
    "\n",
    "T_tweets_test['date'], T_tweets_test['time'] = T_tweets_test['created_at'].str.split(',',1).str\n",
    "\n",
    "T_tweets_test.drop(T_tweets_test.columns[1], axis=1, inplace=True)\n",
    "T_tweets_test.head()\n"
   ]
  },
  {
   "cell_type": "code",
   "execution_count": null,
   "metadata": {
    "collapsed": true,
    "deletable": true,
    "editable": true
   },
   "outputs": [],
   "source": []
  }
 ],
 "metadata": {
  "kernelspec": {
   "display_name": "Python 3",
   "language": "python",
   "name": "python3"
  },
  "language_info": {
   "codemirror_mode": {
    "name": "ipython",
    "version": 3
   },
   "file_extension": ".py",
   "mimetype": "text/x-python",
   "name": "python",
   "nbconvert_exporter": "python",
   "pygments_lexer": "ipython3",
   "version": "3.5.2"
  }
 },
 "nbformat": 4,
 "nbformat_minor": 2
}
