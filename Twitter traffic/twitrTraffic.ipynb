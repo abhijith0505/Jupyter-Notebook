{
 "cells": [
  {
   "cell_type": "code",
   "execution_count": 2,
   "metadata": {
    "collapsed": true
   },
   "outputs": [],
   "source": [
    "import pandas as pd\n",
    "import numpy as np"
   ]
  },
  {
   "cell_type": "code",
   "execution_count": 73,
   "metadata": {
    "collapsed": false
   },
   "outputs": [
    {
     "data": {
      "text/html": [
       "<div>\n",
       "<table border=\"1\" class=\"dataframe\">\n",
       "  <thead>\n",
       "    <tr style=\"text-align: right;\">\n",
       "      <th></th>\n",
       "      <th>id</th>\n",
       "      <th>text</th>\n",
       "      <th>date</th>\n",
       "      <th>time</th>\n",
       "    </tr>\n",
       "  </thead>\n",
       "  <tbody>\n",
       "    <tr>\n",
       "      <th>0</th>\n",
       "      <td>834412638931083265</td>\n",
       "      <td>And also  Karnataka bhavan jn towards Khodays ...</td>\n",
       "      <td>2017-02-22</td>\n",
       "      <td>14:40:50</td>\n",
       "    </tr>\n",
       "    <tr>\n",
       "      <th>1</th>\n",
       "      <td>834412527366791169</td>\n",
       "      <td>Peak hour traffic at Mekhri circle underpass t...</td>\n",
       "      <td>2017-02-22</td>\n",
       "      <td>14:40:23</td>\n",
       "    </tr>\n",
       "    <tr>\n",
       "      <th>2</th>\n",
       "      <td>834407314010435586</td>\n",
       "      <td>And also  Anand Rao circle towards Keno theate...</td>\n",
       "      <td>2017-02-22</td>\n",
       "      <td>14:19:40</td>\n",
       "    </tr>\n",
       "    <tr>\n",
       "      <th>3</th>\n",
       "      <td>834407256208728066</td>\n",
       "      <td>Peak hour traffic at Nayandahalli jn towards D...</td>\n",
       "      <td>2017-02-22</td>\n",
       "      <td>14:19:27</td>\n",
       "    </tr>\n",
       "    <tr>\n",
       "      <th>4</th>\n",
       "      <td>834381488221220864</td>\n",
       "      <td>And also  Krishna floor mil jn towards Okalipu...</td>\n",
       "      <td>2017-02-22</td>\n",
       "      <td>12:37:03</td>\n",
       "    </tr>\n",
       "  </tbody>\n",
       "</table>\n",
       "</div>"
      ],
      "text/plain": [
       "                   id                                               text  \\\n",
       "0  834412638931083265  And also  Karnataka bhavan jn towards Khodays ...   \n",
       "1  834412527366791169  Peak hour traffic at Mekhri circle underpass t...   \n",
       "2  834407314010435586  And also  Anand Rao circle towards Keno theate...   \n",
       "3  834407256208728066  Peak hour traffic at Nayandahalli jn towards D...   \n",
       "4  834381488221220864  And also  Krishna floor mil jn towards Okalipu...   \n",
       "\n",
       "         date       time  \n",
       "0  2017-02-22   14:40:50  \n",
       "1  2017-02-22   14:40:23  \n",
       "2  2017-02-22   14:19:40  \n",
       "3  2017-02-22   14:19:27  \n",
       "4  2017-02-22   12:37:03  "
      ]
     },
     "execution_count": 73,
     "metadata": {},
     "output_type": "execute_result"
    }
   ],
   "source": [
    "T_tweets = pd.read_csv('tweets.csv')\n",
    "\n",
    "T_tweets['created_at'] = T_tweets['created_at'].str.replace('[','')\n",
    "T_tweets['created_at'] = T_tweets['created_at'].str.replace(']','')\n",
    "T_tweets['created_at'] = T_tweets['created_at'].str.replace('\\'','')\n",
    "\n",
    "T_tweets['date'], T_tweets['time'] = T_tweets['created_at'].str.split(',',1).str\n",
    "\n",
    "T_tweets.drop(T_tweets.columns[1], axis=1, inplace=True)\n",
    "T_tweets.head()"
   ]
  },
  {
   "cell_type": "code",
   "execution_count": 74,
   "metadata": {
    "collapsed": false
   },
   "outputs": [
    {
     "data": {
      "text/html": [
       "<div>\n",
       "<table border=\"1\" class=\"dataframe\">\n",
       "  <thead>\n",
       "    <tr style=\"text-align: right;\">\n",
       "      <th></th>\n",
       "      <th>id</th>\n",
       "      <th>text</th>\n",
       "      <th>date</th>\n",
       "      <th>time</th>\n",
       "    </tr>\n",
       "  </thead>\n",
       "  <tbody>\n",
       "    <tr>\n",
       "      <th>0</th>\n",
       "      <td>834412638931083265</td>\n",
       "      <td>And also  Karnataka bhavan jn towards Khodays ...</td>\n",
       "      <td>2017-02-22</td>\n",
       "      <td>14:40:50</td>\n",
       "    </tr>\n",
       "    <tr>\n",
       "      <th>1</th>\n",
       "      <td>834412527366791169</td>\n",
       "      <td>Peak hour traffic at Mekhri circle underpass t...</td>\n",
       "      <td>2017-02-22</td>\n",
       "      <td>14:40:23</td>\n",
       "    </tr>\n",
       "    <tr>\n",
       "      <th>2</th>\n",
       "      <td>834407314010435586</td>\n",
       "      <td>And also  Anand Rao circle towards Keno theate...</td>\n",
       "      <td>2017-02-22</td>\n",
       "      <td>14:19:40</td>\n",
       "    </tr>\n",
       "    <tr>\n",
       "      <th>3</th>\n",
       "      <td>834407256208728066</td>\n",
       "      <td>Peak hour traffic at Nayandahalli jn towards D...</td>\n",
       "      <td>2017-02-22</td>\n",
       "      <td>14:19:27</td>\n",
       "    </tr>\n",
       "    <tr>\n",
       "      <th>4</th>\n",
       "      <td>834381488221220864</td>\n",
       "      <td>And also  Krishna floor mil jn towards Okalipu...</td>\n",
       "      <td>2017-02-22</td>\n",
       "      <td>12:37:03</td>\n",
       "    </tr>\n",
       "  </tbody>\n",
       "</table>\n",
       "</div>"
      ],
      "text/plain": [
       "                   id                                               text  \\\n",
       "0  834412638931083265  And also  Karnataka bhavan jn towards Khodays ...   \n",
       "1  834412527366791169  Peak hour traffic at Mekhri circle underpass t...   \n",
       "2  834407314010435586  And also  Anand Rao circle towards Keno theate...   \n",
       "3  834407256208728066  Peak hour traffic at Nayandahalli jn towards D...   \n",
       "4  834381488221220864  And also  Krishna floor mil jn towards Okalipu...   \n",
       "\n",
       "         date       time  \n",
       "0  2017-02-22   14:40:50  \n",
       "1  2017-02-22   14:40:23  \n",
       "2  2017-02-22   14:19:40  \n",
       "3  2017-02-22   14:19:27  \n",
       "4  2017-02-22   12:37:03  "
      ]
     },
     "execution_count": 74,
     "metadata": {},
     "output_type": "execute_result"
    }
   ],
   "source": [
    "T_tweets.head()\n"
   ]
  },
  {
   "cell_type": "code",
   "execution_count": null,
   "metadata": {
    "collapsed": true
   },
   "outputs": [],
   "source": [
    "#"
   ]
  }
 ],
 "metadata": {
  "kernelspec": {
   "display_name": "Python 3",
   "language": "python",
   "name": "python3"
  },
  "language_info": {
   "codemirror_mode": {
    "name": "ipython",
    "version": 3
   },
   "file_extension": ".py",
   "mimetype": "text/x-python",
   "name": "python",
   "nbconvert_exporter": "python",
   "pygments_lexer": "ipython3",
   "version": "3.5.2"
  }
 },
 "nbformat": 4,
 "nbformat_minor": 2
}
