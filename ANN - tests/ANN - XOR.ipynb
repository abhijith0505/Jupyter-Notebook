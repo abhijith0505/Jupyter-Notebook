{
 "cells": [
  {
   "cell_type": "code",
   "execution_count": 15,
   "metadata": {
    "collapsed": false,
    "deletable": true,
    "editable": true
   },
   "outputs": [
    {
     "name": "stdout",
     "output_type": "stream",
     "text": [
      "[[ 1.1318583 ]\n",
      " [ 1.43516079]]\n",
      "[ 0.75618168]\n"
     ]
    }
   ],
   "source": [
    "import numpy as np\n",
    "\n",
    "#Training example\n",
    "training_set_inputs = np.array([[0, 0], [1, 1], [1, 0], [0, 1]])\n",
    "training_set_outputs = np.array([[0], [1], [1], [1]])\n",
    "\n",
    "# For AND function:- training_set_outputs = np.array([[0], [1], [0], [0]])\n",
    "\n",
    "np.random.seed(1)\n",
    "\n",
    "def sigmoid (x): return 1/(1 + np.exp(-x))      # activation function \n",
    "def sigmoid_(x): return x * (1 - x)             # activation derivative function\n",
    "    \n",
    "input_synaptic_weights = np.random.random(size=(2, 1))\n",
    "#output_synaptic_weights = np.random.random(size=(3, 1))\n",
    "\n",
    "for iteration in range(10000):\n",
    "    l1 = sigmoid(np.dot(training_set_inputs, input_synaptic_weights))\n",
    "    #l2 = sigmoid(np.dot(l1, output_synaptic_weights))\n",
    "    \n",
    "    error = training_set_outputs - l1\n",
    "    delta_output = error * sigmoid_(l1)\n",
    "    #delta_hidden = np.dot(delta_output, output_synaptic_weights.T) * sigmoid_(l1)\n",
    "    \n",
    "    input_synaptic_weights += l1.T.dot(delta_output)\n",
    "    #output_synaptic_weights += l2.T.dot(delta_hidden)\n",
    "    \n",
    "print(input_synaptic_weights)\n",
    "\n",
    "#Test input\n",
    "input = np.array([1,0])\n",
    "\n",
    "#prediction\n",
    "print(sigmoid(np.dot(input,input_synaptic_weights)))"
   ]
  }
 ],
 "metadata": {
  "kernelspec": {
   "display_name": "Python 3",
   "language": "python",
   "name": "python3"
  },
  "language_info": {
   "codemirror_mode": {
    "name": "ipython",
    "version": 3
   },
   "file_extension": ".py",
   "mimetype": "text/x-python",
   "name": "python",
   "nbconvert_exporter": "python",
   "pygments_lexer": "ipython3",
   "version": "3.5.2"
  }
 },
 "nbformat": 4,
 "nbformat_minor": 2
}
