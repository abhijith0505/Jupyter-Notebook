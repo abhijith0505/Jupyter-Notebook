{
 "cells": [
  {
   "cell_type": "code",
   "execution_count": 1,
   "metadata": {
    "collapsed": false
   },
   "outputs": [
    {
     "data": {
      "text/html": [
       "<div>\n",
       "<table border=\"1\" class=\"dataframe\">\n",
       "  <thead>\n",
       "    <tr style=\"text-align: right;\">\n",
       "      <th></th>\n",
       "      <th>score</th>\n",
       "      <th>url</th>\n",
       "      <th>title</th>\n",
       "      <th>text</th>\n",
       "    </tr>\n",
       "  </thead>\n",
       "  <tbody>\n",
       "    <tr>\n",
       "      <th>0</th>\n",
       "      <td>4</td>\n",
       "      <td>/gp/customer-reviews/RKMO449VT48H3?ASIN=149159...</td>\n",
       "      <td>4.7573214851 Stars</td>\n",
       "      <td>&lt;span class=\"a-size-base review-text\"&gt;I'm a ha...</td>\n",
       "    </tr>\n",
       "    <tr>\n",
       "      <th>1</th>\n",
       "      <td>3</td>\n",
       "      <td>/gp/customer-reviews/R3RDNZNCOMRN0K?ASIN=14915...</td>\n",
       "      <td>Who needs nail clippers?</td>\n",
       "      <td>&lt;span class=\"a-size-base review-text\"&gt;\"I'm str...</td>\n",
       "    </tr>\n",
       "    <tr>\n",
       "      <th>2</th>\n",
       "      <td>4</td>\n",
       "      <td>/gp/customer-reviews/R1TC15NPCF9GMW?ASIN=14915...</td>\n",
       "      <td>Abandoned on Mars</td>\n",
       "      <td>&lt;span class=\"a-size-base review-text\"&gt;A futuri...</td>\n",
       "    </tr>\n",
       "    <tr>\n",
       "      <th>3</th>\n",
       "      <td>5</td>\n",
       "      <td>/gp/customer-reviews/RT3R8XN5KZZGW?ASIN=149159...</td>\n",
       "      <td>Excellent Story</td>\n",
       "      <td>&lt;span class=\"a-size-base review-text\"&gt;Follow t...</td>\n",
       "    </tr>\n",
       "    <tr>\n",
       "      <th>4</th>\n",
       "      <td>5</td>\n",
       "      <td>/gp/customer-reviews/R32NNLGY7QGRVJ?ASIN=14915...</td>\n",
       "      <td>Inventive  humorous  tedious</td>\n",
       "      <td>&lt;span class=\"a-size-base review-text\"&gt;This is ...</td>\n",
       "    </tr>\n",
       "  </tbody>\n",
       "</table>\n",
       "</div>"
      ],
      "text/plain": [
       "   score                                                url  \\\n",
       "0      4  /gp/customer-reviews/RKMO449VT48H3?ASIN=149159...   \n",
       "1      3  /gp/customer-reviews/R3RDNZNCOMRN0K?ASIN=14915...   \n",
       "2      4  /gp/customer-reviews/R1TC15NPCF9GMW?ASIN=14915...   \n",
       "3      5  /gp/customer-reviews/RT3R8XN5KZZGW?ASIN=149159...   \n",
       "4      5  /gp/customer-reviews/R32NNLGY7QGRVJ?ASIN=14915...   \n",
       "\n",
       "                          title  \\\n",
       "0            4.7573214851 Stars   \n",
       "1      Who needs nail clippers?   \n",
       "2             Abandoned on Mars   \n",
       "3               Excellent Story   \n",
       "4  Inventive  humorous  tedious   \n",
       "\n",
       "                                                text  \n",
       "0  <span class=\"a-size-base review-text\">I'm a ha...  \n",
       "1  <span class=\"a-size-base review-text\">\"I'm str...  \n",
       "2  <span class=\"a-size-base review-text\">A futuri...  \n",
       "3  <span class=\"a-size-base review-text\">Follow t...  \n",
       "4  <span class=\"a-size-base review-text\">This is ...  "
      ]
     },
     "execution_count": 1,
     "metadata": {},
     "output_type": "execute_result"
    }
   ],
   "source": [
    "import nltk, re, pprint\n",
    "from nltk import word_tokenize\n",
    "import pandas as pd\n",
    "import numpy as np\n",
    "import re\n",
    "\n",
    "m_andy = pd.read_csv('data/Andy-Weir-The-Martian.csv')\n",
    "m_andy.head()"
   ]
  },
  {
   "cell_type": "code",
   "execution_count": 2,
   "metadata": {
    "collapsed": false
   },
   "outputs": [
    {
     "data": {
      "text/html": [
       "<div>\n",
       "<table border=\"1\" class=\"dataframe\">\n",
       "  <thead>\n",
       "    <tr style=\"text-align: right;\">\n",
       "      <th></th>\n",
       "      <th>text</th>\n",
       "    </tr>\n",
       "  </thead>\n",
       "  <tbody>\n",
       "    <tr>\n",
       "      <th>0</th>\n",
       "      <td>&lt;span class=\"a-size-base review-text\"&gt;I'm a ha...</td>\n",
       "    </tr>\n",
       "    <tr>\n",
       "      <th>1</th>\n",
       "      <td>&lt;span class=\"a-size-base review-text\"&gt;\"I'm str...</td>\n",
       "    </tr>\n",
       "    <tr>\n",
       "      <th>2</th>\n",
       "      <td>&lt;span class=\"a-size-base review-text\"&gt;A futuri...</td>\n",
       "    </tr>\n",
       "    <tr>\n",
       "      <th>3</th>\n",
       "      <td>&lt;span class=\"a-size-base review-text\"&gt;Follow t...</td>\n",
       "    </tr>\n",
       "    <tr>\n",
       "      <th>4</th>\n",
       "      <td>&lt;span class=\"a-size-base review-text\"&gt;This is ...</td>\n",
       "    </tr>\n",
       "  </tbody>\n",
       "</table>\n",
       "</div>"
      ],
      "text/plain": [
       "                                                text\n",
       "0  <span class=\"a-size-base review-text\">I'm a ha...\n",
       "1  <span class=\"a-size-base review-text\">\"I'm str...\n",
       "2  <span class=\"a-size-base review-text\">A futuri...\n",
       "3  <span class=\"a-size-base review-text\">Follow t...\n",
       "4  <span class=\"a-size-base review-text\">This is ..."
      ]
     },
     "execution_count": 2,
     "metadata": {},
     "output_type": "execute_result"
    }
   ],
   "source": [
    "#Taking only the text field and dropping remaining\n",
    "m_andy.drop(m_andy.columns[[0,1,2]], axis=1, inplace=True)\n",
    "m_andy.head()"
   ]
  },
  {
   "cell_type": "code",
   "execution_count": 3,
   "metadata": {
    "collapsed": false
   },
   "outputs": [
    {
     "data": {
      "text/html": [
       "<div>\n",
       "<table border=\"1\" class=\"dataframe\">\n",
       "  <thead>\n",
       "    <tr style=\"text-align: right;\">\n",
       "      <th></th>\n",
       "      <th>text</th>\n",
       "    </tr>\n",
       "  </thead>\n",
       "  <tbody>\n",
       "    <tr>\n",
       "      <th>0</th>\n",
       "      <td>Im a hardscience science fiction fan and would...</td>\n",
       "    </tr>\n",
       "    <tr>\n",
       "      <th>1</th>\n",
       "      <td>Im stranded on Mars I have no way to communica...</td>\n",
       "    </tr>\n",
       "    <tr>\n",
       "      <th>2</th>\n",
       "      <td>A futuristic Robinson Crusoe Due to a dust sto...</td>\n",
       "    </tr>\n",
       "    <tr>\n",
       "      <th>3</th>\n",
       "      <td>Follow the adventure of an astronaut as he tri...</td>\n",
       "    </tr>\n",
       "    <tr>\n",
       "      <th>4</th>\n",
       "      <td>This is in some ways a delightful book  Its in...</td>\n",
       "    </tr>\n",
       "  </tbody>\n",
       "</table>\n",
       "</div>"
      ],
      "text/plain": [
       "                                                text\n",
       "0  Im a hardscience science fiction fan and would...\n",
       "1  Im stranded on Mars I have no way to communica...\n",
       "2  A futuristic Robinson Crusoe Due to a dust sto...\n",
       "3  Follow the adventure of an astronaut as he tri...\n",
       "4  This is in some ways a delightful book  Its in..."
      ]
     },
     "execution_count": 3,
     "metadata": {},
     "output_type": "execute_result"
    }
   ],
   "source": [
    "#Stripping the text of all HTML tags\n",
    "m_andy['text'] = m_andy['text'].replace(['<[^>]+>'],[''],regex=True)\n",
    "\n",
    "#Stripping the text of all special characters\n",
    "m_andy['text'] = m_andy['text'].replace(['([^\\s\\w]|_)+'],[''],regex=True)\n",
    "m_andy.head()"
   ]
  },
  {
   "cell_type": "code",
   "execution_count": 18,
   "metadata": {
    "collapsed": false
   },
   "outputs": [
    {
     "name": "stdout",
     "output_type": "stream",
     "text": [
      "(22571, 29333)\n",
      "1255\n",
      "  (0, 8147)\t1\n",
      "  (0, 653)\t1\n",
      "  (0, 24218)\t1\n",
      "  (0, 25852)\t1\n",
      "  (0, 12265)\t1\n",
      "  (0, 6981)\t1\n",
      "  (0, 9824)\t1\n",
      "  (0, 17961)\t1\n",
      "  (0, 3816)\t1\n",
      "  (0, 786)\t1\n",
      "  (0, 3107)\t1\n",
      "  (0, 1264)\t1\n",
      "  (0, 25385)\t1\n",
      "  (0, 11381)\t1\n",
      "  (0, 20540)\t1\n",
      "  (0, 3092)\t1\n",
      "  (0, 10568)\t1\n",
      "  (0, 17521)\t1\n",
      "  (0, 22451)\t2\n",
      "  (0, 28609)\t1\n",
      "  (0, 18788)\t1\n",
      "  (0, 20906)\t1\n",
      "  (0, 12011)\t1\n",
      "  (0, 13425)\t1\n",
      "  (0, 13059)\t1\n",
      "  :\t:\n",
      "  (22570, 11676)\t1\n",
      "  (22570, 16875)\t1\n",
      "  (22570, 9882)\t1\n",
      "  (22570, 10149)\t1\n",
      "  (22570, 25891)\t1\n",
      "  (22570, 1527)\t1\n",
      "  (22570, 28535)\t1\n",
      "  (22570, 13701)\t3\n",
      "  (22570, 3261)\t1\n",
      "  (22570, 26061)\t1\n",
      "  (22570, 2647)\t2\n",
      "  (22570, 15934)\t2\n",
      "  (22570, 26435)\t6\n",
      "  (22570, 3938)\t2\n",
      "  (22570, 17911)\t1\n",
      "  (22570, 25871)\t7\n",
      "  (22570, 25823)\t2\n",
      "  (22570, 29238)\t2\n",
      "  (22570, 17457)\t1\n",
      "  (22570, 13756)\t5\n",
      "  (22570, 23626)\t1\n",
      "  (22570, 17794)\t2\n",
      "  (22570, 1373)\t1\n",
      "  (22570, 1553)\t2\n",
      "  (22570, 9413)\t1\n"
     ]
    },
    {
     "data": {
      "text/plain": [
       "(22571, 29333)"
      ]
     },
     "execution_count": 18,
     "metadata": {},
     "output_type": "execute_result"
    }
   ],
   "source": [
    "from sklearn.feature_extraction.text import CountVectorizer\n",
    "count_vect = CountVectorizer()\n",
    "X_train_counts = count_vect.fit_transform(m_andy['text'])\n",
    "print(X_train_counts.shape)\n",
    "print(count_vect.vocabulary_.get(u'algorithm'))\n",
    "print(X_train_counts)\n",
    "\n",
    "from sklearn.feature_extraction.text import TfidfTransformer\n",
    "tf_transformer = TfidfTransformer(use_idf=False).fit(X_train_counts)\n",
    "X_train_tf = tf_transformer.transform(X_train_counts)\n",
    "X_train_tf.shape"
   ]
  }
 ],
 "metadata": {
  "kernelspec": {
   "display_name": "Python 3",
   "language": "python",
   "name": "python3"
  },
  "language_info": {
   "codemirror_mode": {
    "name": "ipython",
    "version": 3
   },
   "file_extension": ".py",
   "mimetype": "text/x-python",
   "name": "python",
   "nbconvert_exporter": "python",
   "pygments_lexer": "ipython3",
   "version": "3.5.2"
  }
 },
 "nbformat": 4,
 "nbformat_minor": 2
}
